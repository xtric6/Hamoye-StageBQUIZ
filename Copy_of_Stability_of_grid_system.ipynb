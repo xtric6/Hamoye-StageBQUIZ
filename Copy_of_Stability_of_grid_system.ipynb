{
  "nbformat": 4,
  "nbformat_minor": 0,
  "metadata": {
    "colab": {
      "name": "Copy of Stability of grid system.ipynb",
      "provenance": [],
      "collapsed_sections": [
        "GFmGMYYlWmZ4",
        "cb0a2Gh9X49c",
        "ax1zfWiwbeOs",
        "KarVW4ploVY0"
      ],
      "authorship_tag": "ABX9TyOLNt7Mi3wCJDQstJKEHViY",
      "include_colab_link": true
    },
    "kernelspec": {
      "name": "python3",
      "display_name": "Python 3"
    },
    "language_info": {
      "name": "python"
    }
  },
  "cells": [
    {
      "cell_type": "markdown",
      "metadata": {
        "id": "view-in-github",
        "colab_type": "text"
      },
      "source": [
        "<a href=\"https://colab.research.google.com/github/xtric6/Hamoye-StageBQUIZ/blob/main/Copy_of_Stability_of_grid_system.ipynb\" target=\"_parent\"><img src=\"https://colab.research.google.com/assets/colab-badge.svg\" alt=\"Open In Colab\"/></a>"
      ]
    },
    {
      "cell_type": "code",
      "metadata": {
        "colab": {
          "resources": {
            "http://localhost:8080/nbextensions/google.colab/files.js": {
              "data": "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",
              "ok": true,
              "headers": [
                [
                  "content-type",
                  "application/javascript"
                ]
              ],
              "status": 200,
              "status_text": ""
            }
          },
          "base_uri": "https://localhost:8080/",
          "height": 73
        },
        "id": "rbPMME9eMENr",
        "outputId": "1e9d1bfb-5763-4246-bac9-5896342a661d"
      },
      "source": [
        "from google.colab import files\n",
        "uploaded = files.upload()"
      ],
      "execution_count": null,
      "outputs": [
        {
          "output_type": "display_data",
          "data": {
            "text/html": [
              "\n",
              "     <input type=\"file\" id=\"files-f2a76a57-07e0-48c5-ba6a-7493cb678606\" name=\"files[]\" multiple disabled\n",
              "        style=\"border:none\" />\n",
              "     <output id=\"result-f2a76a57-07e0-48c5-ba6a-7493cb678606\">\n",
              "      Upload widget is only available when the cell has been executed in the\n",
              "      current browser session. Please rerun this cell to enable.\n",
              "      </output>\n",
              "      <script src=\"/nbextensions/google.colab/files.js\"></script> "
            ],
            "text/plain": [
              "<IPython.core.display.HTML object>"
            ]
          },
          "metadata": {}
        },
        {
          "output_type": "stream",
          "name": "stdout",
          "text": [
            "Saving Stability of the Grid System.csv to Stability of the Grid System (1).csv\n"
          ]
        }
      ]
    },
    {
      "cell_type": "code",
      "metadata": {
        "id": "Zzj-KH8SOO54"
      },
      "source": [
        "import io\n",
        "import pandas as pd\n",
        "import matplotlib.pyplot as plt\n",
        "import numpy as np"
      ],
      "execution_count": null,
      "outputs": []
    },
    {
      "cell_type": "code",
      "metadata": {
        "id": "ad7TQr7_Psof"
      },
      "source": [
        "df = pd.read_csv(io.BytesIO(uploaded['Stability of the Grid System.csv']))"
      ],
      "execution_count": null,
      "outputs": []
    },
    {
      "cell_type": "markdown",
      "metadata": {
        "id": "_lCAzdvvSM6H"
      },
      "source": [
        "##Predictive features:\n",
        "\n",
        "**'tau1' to 'tau4'**: the reaction time of each network participant, a real value within the range 0.5 to 10 ('tau1' corresponds to the supplier node, 'tau2' to 'tau4' to the consumer nodes);\n",
        "\n",
        "**'p1' to 'p4'**:  nominal power produced (positive) or consumed (negative) by each network participant, a real value within the range -2.0 to -0.5 for consumers ('p2' to 'p4'). As the total power consumed equals the total power generated, p1 (supplier node) = - (p2 + p3 + p4);\n",
        "\n",
        "**'g1' to 'g4'**: price elasticity coefficient for each network participant, a real value within the range 0.05 to 1.00 ('g1' corresponds to the supplier node, 'g2' to 'g4' to the consumer nodes; 'g' stands for 'gamma');\n",
        "\n",
        "##Dependent variables:\n",
        "\n",
        "**'stab'**: the maximum real part of the characteristic differential equation root (if positive, the system is linearly unstable; if negative, linearly stable);\n",
        "\n",
        "**'stabf'**: a categorical (binary) label ('stable' or 'unstable')."
      ]
    },
    {
      "cell_type": "code",
      "metadata": {
        "colab": {
          "base_uri": "https://localhost:8080/",
          "height": 206
        },
        "id": "Z-jTg8PEP7yO",
        "outputId": "2ef33413-6176-48d0-e94b-e6ee1a6e109c"
      },
      "source": [
        "df.head()"
      ],
      "execution_count": null,
      "outputs": [
        {
          "output_type": "execute_result",
          "data": {
            "text/html": [
              "<div>\n",
              "<style scoped>\n",
              "    .dataframe tbody tr th:only-of-type {\n",
              "        vertical-align: middle;\n",
              "    }\n",
              "\n",
              "    .dataframe tbody tr th {\n",
              "        vertical-align: top;\n",
              "    }\n",
              "\n",
              "    .dataframe thead th {\n",
              "        text-align: right;\n",
              "    }\n",
              "</style>\n",
              "<table border=\"1\" class=\"dataframe\">\n",
              "  <thead>\n",
              "    <tr style=\"text-align: right;\">\n",
              "      <th></th>\n",
              "      <th>tau1</th>\n",
              "      <th>tau2</th>\n",
              "      <th>tau3</th>\n",
              "      <th>tau4</th>\n",
              "      <th>p1</th>\n",
              "      <th>p2</th>\n",
              "      <th>p3</th>\n",
              "      <th>p4</th>\n",
              "      <th>g1</th>\n",
              "      <th>g2</th>\n",
              "      <th>g3</th>\n",
              "      <th>g4</th>\n",
              "      <th>stab</th>\n",
              "      <th>stabf</th>\n",
              "    </tr>\n",
              "  </thead>\n",
              "  <tbody>\n",
              "    <tr>\n",
              "      <th>0</th>\n",
              "      <td>2.959060</td>\n",
              "      <td>3.079885</td>\n",
              "      <td>8.381025</td>\n",
              "      <td>9.780754</td>\n",
              "      <td>3.763085</td>\n",
              "      <td>-0.782604</td>\n",
              "      <td>-1.257395</td>\n",
              "      <td>-1.723086</td>\n",
              "      <td>0.650456</td>\n",
              "      <td>0.859578</td>\n",
              "      <td>0.887445</td>\n",
              "      <td>0.958034</td>\n",
              "      <td>0.055347</td>\n",
              "      <td>unstable</td>\n",
              "    </tr>\n",
              "    <tr>\n",
              "      <th>1</th>\n",
              "      <td>9.304097</td>\n",
              "      <td>4.902524</td>\n",
              "      <td>3.047541</td>\n",
              "      <td>1.369357</td>\n",
              "      <td>5.067812</td>\n",
              "      <td>-1.940058</td>\n",
              "      <td>-1.872742</td>\n",
              "      <td>-1.255012</td>\n",
              "      <td>0.413441</td>\n",
              "      <td>0.862414</td>\n",
              "      <td>0.562139</td>\n",
              "      <td>0.781760</td>\n",
              "      <td>-0.005957</td>\n",
              "      <td>stable</td>\n",
              "    </tr>\n",
              "    <tr>\n",
              "      <th>2</th>\n",
              "      <td>8.971707</td>\n",
              "      <td>8.848428</td>\n",
              "      <td>3.046479</td>\n",
              "      <td>1.214518</td>\n",
              "      <td>3.405158</td>\n",
              "      <td>-1.207456</td>\n",
              "      <td>-1.277210</td>\n",
              "      <td>-0.920492</td>\n",
              "      <td>0.163041</td>\n",
              "      <td>0.766689</td>\n",
              "      <td>0.839444</td>\n",
              "      <td>0.109853</td>\n",
              "      <td>0.003471</td>\n",
              "      <td>unstable</td>\n",
              "    </tr>\n",
              "    <tr>\n",
              "      <th>3</th>\n",
              "      <td>0.716415</td>\n",
              "      <td>7.669600</td>\n",
              "      <td>4.486641</td>\n",
              "      <td>2.340563</td>\n",
              "      <td>3.963791</td>\n",
              "      <td>-1.027473</td>\n",
              "      <td>-1.938944</td>\n",
              "      <td>-0.997374</td>\n",
              "      <td>0.446209</td>\n",
              "      <td>0.976744</td>\n",
              "      <td>0.929381</td>\n",
              "      <td>0.362718</td>\n",
              "      <td>0.028871</td>\n",
              "      <td>unstable</td>\n",
              "    </tr>\n",
              "    <tr>\n",
              "      <th>4</th>\n",
              "      <td>3.134112</td>\n",
              "      <td>7.608772</td>\n",
              "      <td>4.943759</td>\n",
              "      <td>9.857573</td>\n",
              "      <td>3.525811</td>\n",
              "      <td>-1.125531</td>\n",
              "      <td>-1.845975</td>\n",
              "      <td>-0.554305</td>\n",
              "      <td>0.797110</td>\n",
              "      <td>0.455450</td>\n",
              "      <td>0.656947</td>\n",
              "      <td>0.820923</td>\n",
              "      <td>0.049860</td>\n",
              "      <td>unstable</td>\n",
              "    </tr>\n",
              "  </tbody>\n",
              "</table>\n",
              "</div>"
            ],
            "text/plain": [
              "       tau1      tau2      tau3  ...        g4      stab     stabf\n",
              "0  2.959060  3.079885  8.381025  ...  0.958034  0.055347  unstable\n",
              "1  9.304097  4.902524  3.047541  ...  0.781760 -0.005957    stable\n",
              "2  8.971707  8.848428  3.046479  ...  0.109853  0.003471  unstable\n",
              "3  0.716415  7.669600  4.486641  ...  0.362718  0.028871  unstable\n",
              "4  3.134112  7.608772  4.943759  ...  0.820923  0.049860  unstable\n",
              "\n",
              "[5 rows x 14 columns]"
            ]
          },
          "metadata": {},
          "execution_count": 5
        }
      ]
    },
    {
      "cell_type": "code",
      "metadata": {
        "colab": {
          "base_uri": "https://localhost:8080/"
        },
        "id": "5usdZrkwckPv",
        "outputId": "fe643608-d1ff-402f-9f39-61c5310c4002"
      },
      "source": [
        "df['stabf'].value_counts()"
      ],
      "execution_count": null,
      "outputs": [
        {
          "output_type": "execute_result",
          "data": {
            "text/plain": [
              "unstable    6380\n",
              "stable      3620\n",
              "Name: stabf, dtype: int64"
            ]
          },
          "metadata": {},
          "execution_count": 6
        }
      ]
    },
    {
      "cell_type": "markdown",
      "metadata": {
        "id": "nPhMYRgTd95C"
      },
      "source": [
        "Our output values is not balanced"
      ]
    },
    {
      "cell_type": "code",
      "metadata": {
        "id": "v3qw1AoYfBRI"
      },
      "source": [
        "df_stable= df[df.stabf== 'stable' ]\n",
        "df_unstable = df[df.stabf== 'unstable' ].sample( 3700 )\n",
        "df_data = df_stable.append(df_unstable) "
      ],
      "execution_count": null,
      "outputs": []
    },
    {
      "cell_type": "code",
      "metadata": {
        "colab": {
          "base_uri": "https://localhost:8080/"
        },
        "id": "2WbR4p6Fe5Rp",
        "outputId": "060fffca-bd28-4815-9394-013a115948f2"
      },
      "source": [
        "df_data['stabf'].value_counts()"
      ],
      "execution_count": null,
      "outputs": [
        {
          "output_type": "execute_result",
          "data": {
            "text/plain": [
              "unstable    3700\n",
              "stable      3620\n",
              "Name: stabf, dtype: int64"
            ]
          },
          "metadata": {},
          "execution_count": 8
        }
      ]
    },
    {
      "cell_type": "code",
      "metadata": {
        "colab": {
          "base_uri": "https://localhost:8080/"
        },
        "id": "KXf8aJyFiVYg",
        "outputId": "81e4cb1d-64fb-44c0-d317-d2182e61fd53"
      },
      "source": [
        "import sklearn.utils\n",
        "df_data = sklearn.utils.shuffle(df_data)\n",
        "df_data= df_data.reset_index(drop= True )\n",
        "df_data.stabf.value_counts()"
      ],
      "execution_count": null,
      "outputs": [
        {
          "output_type": "execute_result",
          "data": {
            "text/plain": [
              "unstable    3700\n",
              "stable      3620\n",
              "Name: stabf, dtype: int64"
            ]
          },
          "metadata": {},
          "execution_count": 9
        }
      ]
    },
    {
      "cell_type": "code",
      "metadata": {
        "id": "Fix5cwiNQC4c"
      },
      "source": [
        "df_data.drop('stab',axis ='columns',inplace = True)"
      ],
      "execution_count": null,
      "outputs": []
    },
    {
      "cell_type": "code",
      "metadata": {
        "colab": {
          "base_uri": "https://localhost:8080/",
          "height": 206
        },
        "id": "E2mkldXuQJdo",
        "outputId": "a5783ae1-3f9b-4404-e3f2-82128d36be1a"
      },
      "source": [
        "df_data.head()"
      ],
      "execution_count": null,
      "outputs": [
        {
          "output_type": "execute_result",
          "data": {
            "text/html": [
              "<div>\n",
              "<style scoped>\n",
              "    .dataframe tbody tr th:only-of-type {\n",
              "        vertical-align: middle;\n",
              "    }\n",
              "\n",
              "    .dataframe tbody tr th {\n",
              "        vertical-align: top;\n",
              "    }\n",
              "\n",
              "    .dataframe thead th {\n",
              "        text-align: right;\n",
              "    }\n",
              "</style>\n",
              "<table border=\"1\" class=\"dataframe\">\n",
              "  <thead>\n",
              "    <tr style=\"text-align: right;\">\n",
              "      <th></th>\n",
              "      <th>tau1</th>\n",
              "      <th>tau2</th>\n",
              "      <th>tau3</th>\n",
              "      <th>tau4</th>\n",
              "      <th>p1</th>\n",
              "      <th>p2</th>\n",
              "      <th>p3</th>\n",
              "      <th>p4</th>\n",
              "      <th>g1</th>\n",
              "      <th>g2</th>\n",
              "      <th>g3</th>\n",
              "      <th>g4</th>\n",
              "      <th>stabf</th>\n",
              "    </tr>\n",
              "  </thead>\n",
              "  <tbody>\n",
              "    <tr>\n",
              "      <th>0</th>\n",
              "      <td>4.114349</td>\n",
              "      <td>0.535156</td>\n",
              "      <td>5.945791</td>\n",
              "      <td>1.111495</td>\n",
              "      <td>4.765681</td>\n",
              "      <td>-1.927222</td>\n",
              "      <td>-1.854574</td>\n",
              "      <td>-0.983886</td>\n",
              "      <td>0.967572</td>\n",
              "      <td>0.670605</td>\n",
              "      <td>0.511837</td>\n",
              "      <td>0.510802</td>\n",
              "      <td>stable</td>\n",
              "    </tr>\n",
              "    <tr>\n",
              "      <th>1</th>\n",
              "      <td>6.990906</td>\n",
              "      <td>7.768754</td>\n",
              "      <td>0.980863</td>\n",
              "      <td>2.226422</td>\n",
              "      <td>4.006189</td>\n",
              "      <td>-0.893810</td>\n",
              "      <td>-1.797854</td>\n",
              "      <td>-1.314525</td>\n",
              "      <td>0.800175</td>\n",
              "      <td>0.860724</td>\n",
              "      <td>0.207100</td>\n",
              "      <td>0.750979</td>\n",
              "      <td>unstable</td>\n",
              "    </tr>\n",
              "    <tr>\n",
              "      <th>2</th>\n",
              "      <td>1.522943</td>\n",
              "      <td>2.751999</td>\n",
              "      <td>5.880115</td>\n",
              "      <td>9.267584</td>\n",
              "      <td>3.631513</td>\n",
              "      <td>-1.116173</td>\n",
              "      <td>-1.543977</td>\n",
              "      <td>-0.971363</td>\n",
              "      <td>0.649812</td>\n",
              "      <td>0.846519</td>\n",
              "      <td>0.607319</td>\n",
              "      <td>0.419435</td>\n",
              "      <td>stable</td>\n",
              "    </tr>\n",
              "    <tr>\n",
              "      <th>3</th>\n",
              "      <td>4.139122</td>\n",
              "      <td>0.625133</td>\n",
              "      <td>6.254096</td>\n",
              "      <td>9.635641</td>\n",
              "      <td>3.612888</td>\n",
              "      <td>-1.359649</td>\n",
              "      <td>-1.320970</td>\n",
              "      <td>-0.932269</td>\n",
              "      <td>0.796865</td>\n",
              "      <td>0.168549</td>\n",
              "      <td>0.441094</td>\n",
              "      <td>0.634096</td>\n",
              "      <td>unstable</td>\n",
              "    </tr>\n",
              "    <tr>\n",
              "      <th>4</th>\n",
              "      <td>1.818383</td>\n",
              "      <td>7.907368</td>\n",
              "      <td>4.400380</td>\n",
              "      <td>2.188723</td>\n",
              "      <td>2.048816</td>\n",
              "      <td>-0.606366</td>\n",
              "      <td>-0.726472</td>\n",
              "      <td>-0.715979</td>\n",
              "      <td>0.353106</td>\n",
              "      <td>0.112007</td>\n",
              "      <td>0.257000</td>\n",
              "      <td>0.492245</td>\n",
              "      <td>stable</td>\n",
              "    </tr>\n",
              "  </tbody>\n",
              "</table>\n",
              "</div>"
            ],
            "text/plain": [
              "       tau1      tau2      tau3  ...        g3        g4     stabf\n",
              "0  4.114349  0.535156  5.945791  ...  0.511837  0.510802    stable\n",
              "1  6.990906  7.768754  0.980863  ...  0.207100  0.750979  unstable\n",
              "2  1.522943  2.751999  5.880115  ...  0.607319  0.419435    stable\n",
              "3  4.139122  0.625133  6.254096  ...  0.441094  0.634096  unstable\n",
              "4  1.818383  7.907368  4.400380  ...  0.257000  0.492245    stable\n",
              "\n",
              "[5 rows x 13 columns]"
            ]
          },
          "metadata": {},
          "execution_count": 11
        }
      ]
    },
    {
      "cell_type": "code",
      "metadata": {
        "colab": {
          "base_uri": "https://localhost:8080/"
        },
        "id": "2f7JzZP2Qr6o",
        "outputId": "dceb241f-eee6-4472-9354-190ab8d932de"
      },
      "source": [
        "df_data.isnull().sum()"
      ],
      "execution_count": null,
      "outputs": [
        {
          "output_type": "execute_result",
          "data": {
            "text/plain": [
              "tau1     0\n",
              "tau2     0\n",
              "tau3     0\n",
              "tau4     0\n",
              "p1       0\n",
              "p2       0\n",
              "p3       0\n",
              "p4       0\n",
              "g1       0\n",
              "g2       0\n",
              "g3       0\n",
              "g4       0\n",
              "stabf    0\n",
              "dtype: int64"
            ]
          },
          "metadata": {},
          "execution_count": 12
        }
      ]
    },
    {
      "cell_type": "markdown",
      "metadata": {
        "id": "wuS7eJidQ8eG"
      },
      "source": [
        "There are no missing values"
      ]
    },
    {
      "cell_type": "code",
      "metadata": {
        "colab": {
          "base_uri": "https://localhost:8080/"
        },
        "id": "VDisG-4yQ1DO",
        "outputId": "0d958112-1f0d-432f-cf6b-bc1ece7a5751"
      },
      "source": [
        "df_data.duplicated().sum()"
      ],
      "execution_count": null,
      "outputs": [
        {
          "output_type": "execute_result",
          "data": {
            "text/plain": [
              "0"
            ]
          },
          "metadata": {},
          "execution_count": 13
        }
      ]
    },
    {
      "cell_type": "markdown",
      "metadata": {
        "id": "t77qNlQQRnr3"
      },
      "source": [
        "There are no duplicated rows"
      ]
    },
    {
      "cell_type": "code",
      "metadata": {
        "colab": {
          "base_uri": "https://localhost:8080/",
          "height": 300
        },
        "id": "eKPSpyvYRf33",
        "outputId": "0e926d19-3de7-4711-f46c-2daa59ab5db7"
      },
      "source": [
        "df_data.describe()"
      ],
      "execution_count": null,
      "outputs": [
        {
          "output_type": "execute_result",
          "data": {
            "text/html": [
              "<div>\n",
              "<style scoped>\n",
              "    .dataframe tbody tr th:only-of-type {\n",
              "        vertical-align: middle;\n",
              "    }\n",
              "\n",
              "    .dataframe tbody tr th {\n",
              "        vertical-align: top;\n",
              "    }\n",
              "\n",
              "    .dataframe thead th {\n",
              "        text-align: right;\n",
              "    }\n",
              "</style>\n",
              "<table border=\"1\" class=\"dataframe\">\n",
              "  <thead>\n",
              "    <tr style=\"text-align: right;\">\n",
              "      <th></th>\n",
              "      <th>tau1</th>\n",
              "      <th>tau2</th>\n",
              "      <th>tau3</th>\n",
              "      <th>tau4</th>\n",
              "      <th>p1</th>\n",
              "      <th>p2</th>\n",
              "      <th>p3</th>\n",
              "      <th>p4</th>\n",
              "      <th>g1</th>\n",
              "      <th>g2</th>\n",
              "      <th>g3</th>\n",
              "      <th>g4</th>\n",
              "    </tr>\n",
              "  </thead>\n",
              "  <tbody>\n",
              "    <tr>\n",
              "      <th>count</th>\n",
              "      <td>7320.000000</td>\n",
              "      <td>7320.000000</td>\n",
              "      <td>7320.000000</td>\n",
              "      <td>7320.000000</td>\n",
              "      <td>7320.000000</td>\n",
              "      <td>7320.000000</td>\n",
              "      <td>7320.000000</td>\n",
              "      <td>7320.000000</td>\n",
              "      <td>7320.000000</td>\n",
              "      <td>7320.000000</td>\n",
              "      <td>7320.000000</td>\n",
              "      <td>7320.000000</td>\n",
              "    </tr>\n",
              "    <tr>\n",
              "      <th>mean</th>\n",
              "      <td>5.086509</td>\n",
              "      <td>5.064885</td>\n",
              "      <td>5.081282</td>\n",
              "      <td>5.062254</td>\n",
              "      <td>3.741203</td>\n",
              "      <td>-1.249507</td>\n",
              "      <td>-1.248785</td>\n",
              "      <td>-1.242911</td>\n",
              "      <td>0.511535</td>\n",
              "      <td>0.506253</td>\n",
              "      <td>0.507351</td>\n",
              "      <td>0.510662</td>\n",
              "    </tr>\n",
              "    <tr>\n",
              "      <th>std</th>\n",
              "      <td>2.790081</td>\n",
              "      <td>2.791803</td>\n",
              "      <td>2.791956</td>\n",
              "      <td>2.786439</td>\n",
              "      <td>0.755147</td>\n",
              "      <td>0.435928</td>\n",
              "      <td>0.433106</td>\n",
              "      <td>0.432979</td>\n",
              "      <td>0.274030</td>\n",
              "      <td>0.273490</td>\n",
              "      <td>0.272991</td>\n",
              "      <td>0.274618</td>\n",
              "    </tr>\n",
              "    <tr>\n",
              "      <th>min</th>\n",
              "      <td>0.500793</td>\n",
              "      <td>0.500141</td>\n",
              "      <td>0.500788</td>\n",
              "      <td>0.500473</td>\n",
              "      <td>1.582590</td>\n",
              "      <td>-1.999891</td>\n",
              "      <td>-1.999945</td>\n",
              "      <td>-1.999787</td>\n",
              "      <td>0.050009</td>\n",
              "      <td>0.050053</td>\n",
              "      <td>0.050054</td>\n",
              "      <td>0.050028</td>\n",
              "    </tr>\n",
              "    <tr>\n",
              "      <th>25%</th>\n",
              "      <td>2.596881</td>\n",
              "      <td>2.588398</td>\n",
              "      <td>2.584713</td>\n",
              "      <td>2.580757</td>\n",
              "      <td>3.207636</td>\n",
              "      <td>-1.627656</td>\n",
              "      <td>-1.621844</td>\n",
              "      <td>-1.615824</td>\n",
              "      <td>0.272401</td>\n",
              "      <td>0.268523</td>\n",
              "      <td>0.269616</td>\n",
              "      <td>0.270973</td>\n",
              "    </tr>\n",
              "    <tr>\n",
              "      <th>50%</th>\n",
              "      <td>5.019306</td>\n",
              "      <td>4.962807</td>\n",
              "      <td>4.997409</td>\n",
              "      <td>4.974541</td>\n",
              "      <td>3.743279</td>\n",
              "      <td>-1.247592</td>\n",
              "      <td>-1.250900</td>\n",
              "      <td>-1.240093</td>\n",
              "      <td>0.505945</td>\n",
              "      <td>0.495808</td>\n",
              "      <td>0.500680</td>\n",
              "      <td>0.502469</td>\n",
              "    </tr>\n",
              "    <tr>\n",
              "      <th>75%</th>\n",
              "      <td>7.518608</td>\n",
              "      <td>7.486860</td>\n",
              "      <td>7.511801</td>\n",
              "      <td>7.495535</td>\n",
              "      <td>4.278766</td>\n",
              "      <td>-0.871271</td>\n",
              "      <td>-0.874040</td>\n",
              "      <td>-0.866368</td>\n",
              "      <td>0.747791</td>\n",
              "      <td>0.738800</td>\n",
              "      <td>0.741385</td>\n",
              "      <td>0.748157</td>\n",
              "    </tr>\n",
              "    <tr>\n",
              "      <th>max</th>\n",
              "      <td>9.999469</td>\n",
              "      <td>9.999837</td>\n",
              "      <td>9.999450</td>\n",
              "      <td>9.999443</td>\n",
              "      <td>5.864418</td>\n",
              "      <td>-0.500108</td>\n",
              "      <td>-0.500072</td>\n",
              "      <td>-0.500025</td>\n",
              "      <td>0.999937</td>\n",
              "      <td>0.999944</td>\n",
              "      <td>0.999839</td>\n",
              "      <td>0.999930</td>\n",
              "    </tr>\n",
              "  </tbody>\n",
              "</table>\n",
              "</div>"
            ],
            "text/plain": [
              "              tau1         tau2  ...           g3           g4\n",
              "count  7320.000000  7320.000000  ...  7320.000000  7320.000000\n",
              "mean      5.086509     5.064885  ...     0.507351     0.510662\n",
              "std       2.790081     2.791803  ...     0.272991     0.274618\n",
              "min       0.500793     0.500141  ...     0.050054     0.050028\n",
              "25%       2.596881     2.588398  ...     0.269616     0.270973\n",
              "50%       5.019306     4.962807  ...     0.500680     0.502469\n",
              "75%       7.518608     7.486860  ...     0.741385     0.748157\n",
              "max       9.999469     9.999837  ...     0.999839     0.999930\n",
              "\n",
              "[8 rows x 12 columns]"
            ]
          },
          "metadata": {},
          "execution_count": 14
        }
      ]
    },
    {
      "cell_type": "code",
      "metadata": {
        "id": "b5QzY--eRvBB"
      },
      "source": [
        "X = df_data.iloc[:, :-1]\n",
        "y = df_data.iloc[:, -1]"
      ],
      "execution_count": null,
      "outputs": []
    },
    {
      "cell_type": "code",
      "metadata": {
        "colab": {
          "base_uri": "https://localhost:8080/"
        },
        "id": "ssrJyKNPVxdl",
        "outputId": "34921619-dcee-453f-8f90-7549891198b4"
      },
      "source": [
        "print(X)"
      ],
      "execution_count": null,
      "outputs": [
        {
          "output_type": "stream",
          "name": "stdout",
          "text": [
            "          tau1      tau2      tau3  ...        g2        g3        g4\n",
            "0     4.114349  0.535156  5.945791  ...  0.670605  0.511837  0.510802\n",
            "1     6.990906  7.768754  0.980863  ...  0.860724  0.207100  0.750979\n",
            "2     1.522943  2.751999  5.880115  ...  0.846519  0.607319  0.419435\n",
            "3     4.139122  0.625133  6.254096  ...  0.168549  0.441094  0.634096\n",
            "4     1.818383  7.907368  4.400380  ...  0.112007  0.257000  0.492245\n",
            "...        ...       ...       ...  ...       ...       ...       ...\n",
            "7315  5.762545  4.715287  7.722105  ...  0.627977  0.763911  0.151395\n",
            "7316  1.114636  0.709629  4.732685  ...  0.929018  0.513093  0.686613\n",
            "7317  2.904002  8.041284  1.353475  ...  0.379086  0.340420  0.531401\n",
            "7318  0.985954  9.327821  9.605089  ...  0.415517  0.904829  0.474935\n",
            "7319  4.055062  0.593715  9.240600  ...  0.469617  0.621539  0.104891\n",
            "\n",
            "[7320 rows x 12 columns]\n"
          ]
        }
      ]
    },
    {
      "cell_type": "code",
      "metadata": {
        "colab": {
          "base_uri": "https://localhost:8080/"
        },
        "id": "1n2lwtQYWjJA",
        "outputId": "a1f25737-d3f0-49d8-ed19-f42338e34c64"
      },
      "source": [
        "print(y)"
      ],
      "execution_count": null,
      "outputs": [
        {
          "output_type": "stream",
          "name": "stdout",
          "text": [
            "0         stable\n",
            "1       unstable\n",
            "2         stable\n",
            "3       unstable\n",
            "4         stable\n",
            "          ...   \n",
            "7315    unstable\n",
            "7316      stable\n",
            "7317      stable\n",
            "7318      stable\n",
            "7319      stable\n",
            "Name: stabf, Length: 7320, dtype: object\n"
          ]
        }
      ]
    },
    {
      "cell_type": "markdown",
      "metadata": {
        "id": "GFmGMYYlWmZ4"
      },
      "source": [
        "##Encoding the dependent variable"
      ]
    },
    {
      "cell_type": "code",
      "metadata": {
        "id": "tO5rsbOGW67f"
      },
      "source": [
        "from sklearn.preprocessing import LabelEncoder\n",
        "le = LabelEncoder()\n",
        "y = le.fit_transform(y)"
      ],
      "execution_count": null,
      "outputs": []
    },
    {
      "cell_type": "code",
      "metadata": {
        "colab": {
          "base_uri": "https://localhost:8080/"
        },
        "id": "Tr4rvltzXEKJ",
        "outputId": "ed04dbee-22a2-469f-fdb2-9e1e37276a5f"
      },
      "source": [
        "print(y)"
      ],
      "execution_count": null,
      "outputs": [
        {
          "output_type": "stream",
          "name": "stdout",
          "text": [
            "[0 1 0 ... 0 0 0]\n"
          ]
        }
      ]
    },
    {
      "cell_type": "markdown",
      "metadata": {
        "id": "jP4I5uLmGoE-"
      },
      "source": [
        "Label reprrsentation after labelEncoder\n",
        "\n",
        "0 : stable\n",
        "\n",
        "1 : unstable"
      ]
    },
    {
      "cell_type": "code",
      "metadata": {
        "id": "ts5Do888Vyqj"
      },
      "source": [
        "from sklearn.model_selection import train_test_split\n",
        "X_train, X_test, y_train, y_test = train_test_split(X, y, test_size = 0.20, random_state = 1)"
      ],
      "execution_count": null,
      "outputs": []
    },
    {
      "cell_type": "code",
      "metadata": {
        "colab": {
          "base_uri": "https://localhost:8080/"
        },
        "id": "noaaRW0QlELU",
        "outputId": "c251890a-d729-4639-9a0b-f709f1671339"
      },
      "source": [
        "pd.value_counts(y_train)"
      ],
      "execution_count": null,
      "outputs": [
        {
          "output_type": "execute_result",
          "data": {
            "text/plain": [
              "1    2944\n",
              "0    2912\n",
              "dtype: int64"
            ]
          },
          "metadata": {},
          "execution_count": 21
        }
      ]
    },
    {
      "cell_type": "markdown",
      "metadata": {
        "id": "PskK6PrUnK4U"
      },
      "source": [
        "training labels are balanced no need to apply SMOTE"
      ]
    },
    {
      "cell_type": "code",
      "metadata": {
        "colab": {
          "base_uri": "https://localhost:8080/"
        },
        "id": "Gvjne_wUXTjt",
        "outputId": "a7a0bfc3-b3a7-4761-b2b4-34631fb7154c"
      },
      "source": [
        "print(X_train)"
      ],
      "execution_count": null,
      "outputs": [
        {
          "output_type": "stream",
          "name": "stdout",
          "text": [
            "          tau1      tau2      tau3  ...        g2        g3        g4\n",
            "1554  5.147901  5.792541  1.123032  ...  0.602622  0.231028  0.716735\n",
            "3665  1.467618  9.389085  6.019740  ...  0.273217  0.526145  0.851163\n",
            "2907  8.183637  1.088214  3.942842  ...  0.365977  0.352944  0.552201\n",
            "440   9.191444  8.727296  2.021477  ...  0.636110  0.484847  0.241855\n",
            "6214  3.156690  9.878725  5.247346  ...  0.497677  0.927046  0.901810\n",
            "...        ...       ...       ...  ...       ...       ...       ...\n",
            "905   0.736947  2.059460  1.682176  ...  0.212757  0.479230  0.627937\n",
            "5192  5.827787  7.710060  2.088683  ...  0.480958  0.228402  0.922898\n",
            "3980  1.341493  6.172060  4.406919  ...  0.869085  0.144689  0.852452\n",
            "235   8.528889  9.588129  2.395148  ...  0.785985  0.877627  0.102104\n",
            "5157  2.961069  4.488062  7.290979  ...  0.775241  0.889565  0.998961\n",
            "\n",
            "[5856 rows x 12 columns]\n"
          ]
        }
      ]
    },
    {
      "cell_type": "code",
      "metadata": {
        "colab": {
          "base_uri": "https://localhost:8080/"
        },
        "id": "pxVp7jezXW7Z",
        "outputId": "db602c2d-8d15-4377-9919-842750a24c1e"
      },
      "source": [
        "print(X_test)"
      ],
      "execution_count": null,
      "outputs": [
        {
          "output_type": "stream",
          "name": "stdout",
          "text": [
            "          tau1      tau2      tau3  ...        g2        g3        g4\n",
            "5956  1.386311  8.383548  5.581180  ...  0.898035  0.110692  0.315140\n",
            "1750  5.525483  4.579800  8.411751  ...  0.903933  0.556578  0.711853\n",
            "39    1.493487  4.453221  1.712647  ...  0.578597  0.978671  0.119204\n",
            "4475  0.966090  5.927552  8.076927  ...  0.810061  0.675690  0.472726\n",
            "7048  5.482199  4.890674  8.735396  ...  0.285609  0.959997  0.212946\n",
            "...        ...       ...       ...  ...       ...       ...       ...\n",
            "1098  7.057640  3.426831  1.123781  ...  0.466431  0.213842  0.742699\n",
            "4471  4.127610  9.009955  1.101530  ...  0.196859  0.717299  0.509883\n",
            "4490  1.898815  7.778207  1.140012  ...  0.885061  0.638442  0.589550\n",
            "4966  7.620765  9.513923  7.409730  ...  0.872990  0.589249  0.299006\n",
            "3585  6.465625  4.864033  4.874330  ...  0.461006  0.742747  0.511005\n",
            "\n",
            "[1464 rows x 12 columns]\n"
          ]
        }
      ]
    },
    {
      "cell_type": "code",
      "metadata": {
        "colab": {
          "base_uri": "https://localhost:8080/"
        },
        "id": "fRuK1UlYXWjn",
        "outputId": "45fdf660-f400-412e-f992-0404354646c1"
      },
      "source": [
        "print(y_train)"
      ],
      "execution_count": null,
      "outputs": [
        {
          "output_type": "stream",
          "name": "stdout",
          "text": [
            "[1 1 0 ... 1 1 1]\n"
          ]
        }
      ]
    },
    {
      "cell_type": "code",
      "metadata": {
        "colab": {
          "base_uri": "https://localhost:8080/"
        },
        "id": "vt7sOICWXeQ7",
        "outputId": "1059b77e-3689-43f2-f490-59131af128aa"
      },
      "source": [
        "print(y_test)"
      ],
      "execution_count": null,
      "outputs": [
        {
          "output_type": "stream",
          "name": "stdout",
          "text": [
            "[1 1 0 ... 1 1 1]\n"
          ]
        }
      ]
    },
    {
      "cell_type": "markdown",
      "metadata": {
        "id": "FSoyDIt0X3Xv"
      },
      "source": [
        ""
      ]
    },
    {
      "cell_type": "markdown",
      "metadata": {
        "id": "cb0a2Gh9X49c"
      },
      "source": [
        "##Feature Scaling"
      ]
    },
    {
      "cell_type": "code",
      "metadata": {
        "id": "kg6wuqG5Xmtd"
      },
      "source": [
        "from sklearn.preprocessing import StandardScaler\n",
        "sc = StandardScaler()\n",
        "X_train = sc.fit_transform(X_train)\n",
        "X_test = sc.transform(X_test)"
      ],
      "execution_count": null,
      "outputs": []
    },
    {
      "cell_type": "code",
      "metadata": {
        "colab": {
          "base_uri": "https://localhost:8080/"
        },
        "id": "Ov6S1fNyX1_S",
        "outputId": "14e0267a-72c5-4866-a001-54c7d9514271"
      },
      "source": [
        "print(X_train)"
      ],
      "execution_count": null,
      "outputs": [
        {
          "output_type": "stream",
          "name": "stdout",
          "text": [
            "[[ 0.03510113  0.26053462 -1.4179578  ...  0.35400438 -1.01048018\n",
            "   0.73562324]\n",
            " [-1.28459774  1.55172093  0.3389957  ... -0.8508701   0.06964137\n",
            "   1.22537943]\n",
            " [ 1.12367455 -1.42835381 -0.40620163 ... -0.51157908 -0.56427187\n",
            "   0.13618288]\n",
            " ...\n",
            " [-1.3298243   0.39678492 -0.23968954 ...  1.32865283 -1.32647884\n",
            "   1.23007386]\n",
            " [ 1.24747697  1.62317905 -0.96151884 ...  1.02469687  1.35605976\n",
            "  -1.50363513]\n",
            " [-0.74906657 -0.20778294  0.79512009 ...  0.98539771  1.39975271\n",
            "   1.763844  ]]\n"
          ]
        }
      ]
    },
    {
      "cell_type": "code",
      "metadata": {
        "colab": {
          "base_uri": "https://localhost:8080/"
        },
        "id": "n9cgVpNFatU9",
        "outputId": "3bb6b398-0459-4ce5-9176-3ec10261a13d"
      },
      "source": [
        "print(X_test)"
      ],
      "execution_count": null,
      "outputs": [
        {
          "output_type": "stream",
          "name": "stdout",
          "text": [
            "[[-1.31375311  1.19072548  0.18163901 ...  1.43454454 -1.45090842\n",
            "  -0.72749018]\n",
            " [ 0.17049696 -0.17484854  1.19725626 ...  1.45611543  0.18102415\n",
            "   0.71783486]\n",
            " [-1.27532118 -0.22029122 -1.20640232 ...  0.26612758  1.72587728\n",
            "  -1.44133767]\n",
            " ...\n",
            " [-1.12997616  0.97340354 -1.41186527 ...  1.38708755  0.48064537\n",
            "   0.27225363]\n",
            " [ 0.92183632  1.59653863  0.83772821 ...  1.34293716  0.30060024\n",
            "  -0.7862719 ]\n",
            " [ 0.50761897 -0.07280676 -0.07198088 ... -0.16398892  0.86240033\n",
            "  -0.01390625]]\n"
          ]
        }
      ]
    },
    {
      "cell_type": "markdown",
      "metadata": {
        "id": "ax1zfWiwbeOs"
      },
      "source": [
        "##Training the Random Forest Classification model on the Training set"
      ]
    },
    {
      "cell_type": "code",
      "metadata": {
        "colab": {
          "base_uri": "https://localhost:8080/"
        },
        "id": "Kryz3yy0awpE",
        "outputId": "c59401d0-8434-47a2-d80d-268ff18b82c6"
      },
      "source": [
        "from sklearn.ensemble import RandomForestClassifier\n",
        "classifier = RandomForestClassifier(n_estimators = 10, criterion = 'entropy', random_state = 1)\n",
        "classifier.fit(X_train, y_train)"
      ],
      "execution_count": null,
      "outputs": [
        {
          "output_type": "execute_result",
          "data": {
            "text/plain": [
              "RandomForestClassifier(bootstrap=True, ccp_alpha=0.0, class_weight=None,\n",
              "                       criterion='entropy', max_depth=None, max_features='auto',\n",
              "                       max_leaf_nodes=None, max_samples=None,\n",
              "                       min_impurity_decrease=0.0, min_impurity_split=None,\n",
              "                       min_samples_leaf=1, min_samples_split=2,\n",
              "                       min_weight_fraction_leaf=0.0, n_estimators=10,\n",
              "                       n_jobs=None, oob_score=False, random_state=1, verbose=0,\n",
              "                       warm_start=False)"
            ]
          },
          "metadata": {},
          "execution_count": 29
        }
      ]
    },
    {
      "cell_type": "markdown",
      "metadata": {
        "id": "qn4PjKvrkMdm"
      },
      "source": [
        ""
      ]
    },
    {
      "cell_type": "code",
      "metadata": {
        "id": "QOf2T3H9kNWG"
      },
      "source": [
        "y_pred = classifier.predict(X_test)"
      ],
      "execution_count": null,
      "outputs": []
    },
    {
      "cell_type": "code",
      "metadata": {
        "colab": {
          "base_uri": "https://localhost:8080/"
        },
        "id": "u-M64a6MkHcK",
        "outputId": "6e5e3c21-bc2c-4ffc-ec6b-d7380f23baa8"
      },
      "source": [
        "from sklearn.metrics import confusion_matrix, accuracy_score\n",
        "cm = confusion_matrix(y_test, y_pred)\n",
        "print(cm)\n",
        "accuracy_score(y_test, y_pred)"
      ],
      "execution_count": null,
      "outputs": [
        {
          "output_type": "stream",
          "name": "stdout",
          "text": [
            "[[659  49]\n",
            " [129 627]]\n"
          ]
        },
        {
          "output_type": "execute_result",
          "data": {
            "text/plain": [
              "0.8784153005464481"
            ]
          },
          "metadata": {},
          "execution_count": 31
        }
      ]
    },
    {
      "cell_type": "markdown",
      "metadata": {
        "id": "KarVW4ploVY0"
      },
      "source": [
        "##Cross-validation and accuracy"
      ]
    },
    {
      "cell_type": "code",
      "metadata": {
        "colab": {
          "base_uri": "https://localhost:8080/"
        },
        "id": "eqDvp2kGkWH0",
        "outputId": "6929a7f6-abcc-48e9-926e-3dc7925ae032"
      },
      "source": [
        "from sklearn.model_selection import cross_val_score\n",
        "scores = cross_val_score(classifier, X_train,y_train, cv= 10 , scoring= 'f1_macro' )\n",
        "scores"
      ],
      "execution_count": null,
      "outputs": [
        {
          "output_type": "execute_result",
          "data": {
            "text/plain": [
              "array([0.89049799, 0.90264844, 0.86818265, 0.89583619, 0.85295285,\n",
              "       0.84919521, 0.86122053, 0.8473476 , 0.8716133 , 0.86638204])"
            ]
          },
          "metadata": {},
          "execution_count": 32
        }
      ]
    },
    {
      "cell_type": "code",
      "metadata": {
        "colab": {
          "base_uri": "https://localhost:8080/"
        },
        "id": "BbtIDooDozAe",
        "outputId": "3fee64ec-663c-4906-a98e-7ebea5ba2563"
      },
      "source": [
        "scores.mean()"
      ],
      "execution_count": null,
      "outputs": [
        {
          "output_type": "execute_result",
          "data": {
            "text/plain": [
              "0.8705876805631192"
            ]
          },
          "metadata": {},
          "execution_count": 33
        }
      ]
    },
    {
      "cell_type": "markdown",
      "metadata": {
        "id": "3vRBFtf7H9rX"
      },
      "source": [
        "##Stratified K-Fold Cross Validation"
      ]
    },
    {
      "cell_type": "code",
      "metadata": {
        "id": "O3C4VCM4HXXK"
      },
      "source": [
        "from sklearn.metrics import f1_score \n",
        "from sklearn.model_selection import StratifiedKFold\n",
        "skf = StratifiedKFold(n_splits= 5 , shuffle= True , random_state= 1 )\n",
        "f1_scores = []\n",
        "#run for every split\n",
        "for train_index, test_index in skf.split(X_train, y_train):\n",
        " x_train, x_test = X_train[train_index],X_train[test_index]\n",
        " Y_train, Y_test = y_train[train_index], y_train[test_index]\n",
        " model = RandomForestClassifier(n_estimators = 10, criterion = 'entropy', random_state = 1).fit(x_train, Y_train)\n",
        " #save result to list\n",
        " f1_scores.append(f1_score(y_true=Y_test, y_pred=model.predict(x_test), pos_label= 1 )) \n"
      ],
      "execution_count": null,
      "outputs": []
    },
    {
      "cell_type": "code",
      "metadata": {
        "id": "xCenY-SzJ4zz",
        "colab": {
          "base_uri": "https://localhost:8080/"
        },
        "outputId": "d65d4a78-fb73-4b86-f4b9-d550a0e68b6e"
      },
      "source": [
        "f1_scores"
      ],
      "execution_count": null,
      "outputs": [
        {
          "output_type": "execute_result",
          "data": {
            "text/plain": [
              "[0.8740088105726872,\n",
              " 0.871934604904632,\n",
              " 0.8797862867319681,\n",
              " 0.8681614349775785,\n",
              " 0.8856885688568857]"
            ]
          },
          "metadata": {},
          "execution_count": 35
        }
      ]
    },
    {
      "cell_type": "code",
      "metadata": {
        "colab": {
          "base_uri": "https://localhost:8080/"
        },
        "id": "f35kBeG1kctc",
        "outputId": "f88c61a8-ab9a-483d-c63d-635ff381b84d"
      },
      "source": [
        "from sklearn.metrics import (recall_score, accuracy_score, precision_score, f1_score,\n",
        "confusion_matrix)\n",
        "new_predictions = classifier.predict(X_test)\n",
        "cnf_mat = confusion_matrix(y_true=y_test, y_pred=new_predictions, labels=[0,1])\n",
        "cnf_mat"
      ],
      "execution_count": null,
      "outputs": [
        {
          "output_type": "execute_result",
          "data": {
            "text/plain": [
              "array([[659,  49],\n",
              "       [129, 627]])"
            ]
          },
          "metadata": {},
          "execution_count": 36
        }
      ]
    },
    {
      "cell_type": "code",
      "metadata": {
        "colab": {
          "base_uri": "https://localhost:8080/"
        },
        "id": "Iug03EYukimQ",
        "outputId": "67ba2767-5cd6-4eb8-e7e9-250273993d26"
      },
      "source": [
        "accuracy = accuracy_score(y_true=y_test, y_pred=new_predictions)\n",
        "print( 'Accuracy: {}%' .format(round(accuracy* 100 ), 2 )) "
      ],
      "execution_count": null,
      "outputs": [
        {
          "output_type": "stream",
          "name": "stdout",
          "text": [
            "Accuracy: 88%\n"
          ]
        }
      ]
    },
    {
      "cell_type": "code",
      "metadata": {
        "colab": {
          "base_uri": "https://localhost:8080/"
        },
        "id": "M1rX3ydWo0pt",
        "outputId": "acc9b3d2-252f-43a7-ee26-7ae157006670"
      },
      "source": [
        "precision = precision_score(y_true=y_test, y_pred=new_predictions, pos_label= 0 )\n",
        "print( 'Precision: {}' .format(round(precision* 100 ), 2 ))"
      ],
      "execution_count": null,
      "outputs": [
        {
          "output_type": "stream",
          "name": "stdout",
          "text": [
            "Precision: 84\n"
          ]
        }
      ]
    },
    {
      "cell_type": "code",
      "metadata": {
        "colab": {
          "base_uri": "https://localhost:8080/"
        },
        "id": "24JYqpGdpHVn",
        "outputId": "3b2879ef-9177-4ab0-dc4a-1934b6e952fb"
      },
      "source": [
        "recall = recall_score(y_true=y_test, y_pred=new_predictions, pos_label= 0 )\n",
        "print( 'Recall: {}' .format(round(recall* 100 ), 2 ))"
      ],
      "execution_count": null,
      "outputs": [
        {
          "output_type": "stream",
          "name": "stdout",
          "text": [
            "Recall: 93\n"
          ]
        }
      ]
    },
    {
      "cell_type": "code",
      "metadata": {
        "colab": {
          "base_uri": "https://localhost:8080/"
        },
        "id": "lWPoDm-npaDx",
        "outputId": "53ddbce9-5b58-4a6a-851d-890fa9524c0d"
      },
      "source": [
        "f1 = f1_score(y_true=y_test, y_pred=new_predictions, pos_label= 0 )\n",
        "print( 'F1: {}' .format(round(f1* 100 ), 2 ))"
      ],
      "execution_count": null,
      "outputs": [
        {
          "output_type": "stream",
          "name": "stdout",
          "text": [
            "F1: 88\n"
          ]
        }
      ]
    },
    {
      "cell_type": "code",
      "metadata": {
        "colab": {
          "base_uri": "https://localhost:8080/"
        },
        "id": "bvf7RA3lpfT1",
        "outputId": "2c399010-6653-4fc8-bfdd-d08bea7bb1b0"
      },
      "source": [
        "# Building the model\n",
        "from sklearn.ensemble import ExtraTreesClassifier\n",
        "extc = ExtraTreesClassifier(random_state = 1)\n",
        "  \n",
        "# Training the model\n",
        "extc.fit(X_train, y_train)"
      ],
      "execution_count": null,
      "outputs": [
        {
          "output_type": "execute_result",
          "data": {
            "text/plain": [
              "ExtraTreesClassifier(bootstrap=False, ccp_alpha=0.0, class_weight=None,\n",
              "                     criterion='gini', max_depth=None, max_features='auto',\n",
              "                     max_leaf_nodes=None, max_samples=None,\n",
              "                     min_impurity_decrease=0.0, min_impurity_split=None,\n",
              "                     min_samples_leaf=1, min_samples_split=2,\n",
              "                     min_weight_fraction_leaf=0.0, n_estimators=100,\n",
              "                     n_jobs=None, oob_score=False, random_state=1, verbose=0,\n",
              "                     warm_start=False)"
            ]
          },
          "metadata": {},
          "execution_count": 53
        }
      ]
    },
    {
      "cell_type": "code",
      "metadata": {
        "id": "gw-oVh1mrqET"
      },
      "source": [
        "y_pred2 = extc.predict(X_test)"
      ],
      "execution_count": null,
      "outputs": []
    },
    {
      "cell_type": "code",
      "metadata": {
        "colab": {
          "base_uri": "https://localhost:8080/"
        },
        "id": "a_CbGBJctg_X",
        "outputId": "14ce0bbf-852e-4443-b799-9d671ad3eda6"
      },
      "source": [
        "cm2 = confusion_matrix(y_test, y_pred)\n",
        "print(cm2)\n",
        "accuracy_score(y_test, y_pred2)"
      ],
      "execution_count": null,
      "outputs": [
        {
          "output_type": "stream",
          "name": "stdout",
          "text": [
            "[[659  49]\n",
            " [129 627]]\n"
          ]
        },
        {
          "output_type": "execute_result",
          "data": {
            "text/plain": [
              "0.924863387978142"
            ]
          },
          "metadata": {},
          "execution_count": 55
        }
      ]
    },
    {
      "cell_type": "code",
      "metadata": {
        "id": "1OFhsJGStms1",
        "colab": {
          "base_uri": "https://localhost:8080/"
        },
        "outputId": "c889383f-61fc-4f25-8279-22e5b9ba9b5a"
      },
      "source": [
        "f2 = f1_score(y_test, y_pred, pos_label= 0 )\n",
        "print( 'F2: {}' .format(round(f1* 100 ), 2 ))"
      ],
      "execution_count": null,
      "outputs": [
        {
          "output_type": "stream",
          "name": "stdout",
          "text": [
            "F2: 88\n"
          ]
        }
      ]
    },
    {
      "cell_type": "code",
      "metadata": {
        "colab": {
          "base_uri": "https://localhost:8080/"
        },
        "id": "9gkp50b1cCKe",
        "outputId": "a6042b3c-2b4f-4b68-9eed-17649ee511f8"
      },
      "source": [
        "recall = recall_score(y_test, y_pred, pos_label= 0 )\n",
        "print( 'Recall: {}' .format(round(recall* 100 ), 2 ))"
      ],
      "execution_count": null,
      "outputs": [
        {
          "output_type": "stream",
          "name": "stdout",
          "text": [
            "Recall: 93\n"
          ]
        }
      ]
    },
    {
      "cell_type": "code",
      "metadata": {
        "id": "m_vxR4vQeSuy"
      },
      "source": [
        "param_dict = {'n_estimators':[50, 100, 300, 500, 1000],'min_samples_split':[2, 3, 5, 7, 9],'min_samples_leaf':[1, 2, 4, 6, 8],'max_features':['auto', 'sqrt', 'log2', None]}"
      ],
      "execution_count": null,
      "outputs": []
    },
    {
      "cell_type": "code",
      "metadata": {
        "colab": {
          "base_uri": "https://localhost:8080/"
        },
        "id": "p-wVjC33cMiK",
        "outputId": "92904629-cbbc-4d06-f06b-b1ac5fd9cae3"
      },
      "source": [
        "from sklearn.model_selection import GridSearchCV\n",
        "grid = GridSearchCV(extc,param_grid = param_dict,cv = 3,verbose = 1,n_jobs = -1)\n",
        "grid.fit(X_train,y_train)"
      ],
      "execution_count": null,
      "outputs": [
        {
          "output_type": "stream",
          "name": "stdout",
          "text": [
            "Fitting 3 folds for each of 500 candidates, totalling 1500 fits\n"
          ]
        },
        {
          "output_type": "stream",
          "name": "stderr",
          "text": [
            "[Parallel(n_jobs=-1)]: Using backend LokyBackend with 2 concurrent workers.\n",
            "[Parallel(n_jobs=-1)]: Done  46 tasks      | elapsed:   57.4s\n",
            "[Parallel(n_jobs=-1)]: Done 196 tasks      | elapsed:  3.7min\n",
            "[Parallel(n_jobs=-1)]: Done 446 tasks      | elapsed:  8.0min\n",
            "[Parallel(n_jobs=-1)]: Done 796 tasks      | elapsed: 14.3min\n",
            "[Parallel(n_jobs=-1)]: Done 1246 tasks      | elapsed: 23.9min\n",
            "[Parallel(n_jobs=-1)]: Done 1500 out of 1500 | elapsed: 31.5min finished\n"
          ]
        },
        {
          "output_type": "execute_result",
          "data": {
            "text/plain": [
              "GridSearchCV(cv=3, error_score=nan,\n",
              "             estimator=ExtraTreesClassifier(bootstrap=False, ccp_alpha=0.0,\n",
              "                                            class_weight=None, criterion='gini',\n",
              "                                            max_depth=None, max_features='auto',\n",
              "                                            max_leaf_nodes=None,\n",
              "                                            max_samples=None,\n",
              "                                            min_impurity_decrease=0.0,\n",
              "                                            min_impurity_split=None,\n",
              "                                            min_samples_leaf=1,\n",
              "                                            min_samples_split=2,\n",
              "                                            min_weight_fraction_leaf=0.0,\n",
              "                                            n_estimators=100, n_jobs=None,\n",
              "                                            oob_score=False, random_state=1,\n",
              "                                            verbose=0, warm_start=False),\n",
              "             iid='deprecated', n_jobs=-1,\n",
              "             param_grid={'max_features': ['auto', 'sqrt', 'log2', None],\n",
              "                         'min_samples_leaf': [1, 2, 4, 6, 8],\n",
              "                         'min_samples_split': [2, 3, 5, 7, 9],\n",
              "                         'n_estimators': [50, 100, 300, 500, 1000]},\n",
              "             pre_dispatch='2*n_jobs', refit=True, return_train_score=False,\n",
              "             scoring=None, verbose=1)"
            ]
          },
          "metadata": {},
          "execution_count": 61
        }
      ]
    },
    {
      "cell_type": "code",
      "metadata": {
        "colab": {
          "base_uri": "https://localhost:8080/"
        },
        "id": "ZbqruRFNfbNH",
        "outputId": "f568f3f4-201d-4db3-bd1d-131c27b8125c"
      },
      "source": [
        "grid.best_params_"
      ],
      "execution_count": null,
      "outputs": [
        {
          "output_type": "execute_result",
          "data": {
            "text/plain": [
              "{'max_features': 'auto',\n",
              " 'min_samples_leaf': 2,\n",
              " 'min_samples_split': 2,\n",
              " 'n_estimators': 1000}"
            ]
          },
          "metadata": {},
          "execution_count": 62
        }
      ]
    },
    {
      "cell_type": "code",
      "metadata": {
        "colab": {
          "base_uri": "https://localhost:8080/"
        },
        "id": "FBfhdKdSrH4x",
        "outputId": "ad5685d7-fcbe-400b-ecea-813c7db45b4d"
      },
      "source": [
        "grid.best_score_"
      ],
      "execution_count": null,
      "outputs": [
        {
          "output_type": "execute_result",
          "data": {
            "text/plain": [
              "0.9275956284153005"
            ]
          },
          "metadata": {},
          "execution_count": 63
        }
      ]
    },
    {
      "cell_type": "code",
      "metadata": {
        "id": "ugsKpaARrPnP"
      },
      "source": [
        ""
      ],
      "execution_count": null,
      "outputs": []
    }
  ]
}